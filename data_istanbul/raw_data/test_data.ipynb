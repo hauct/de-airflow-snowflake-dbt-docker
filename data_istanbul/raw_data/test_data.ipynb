{
 "cells": [
  {
   "cell_type": "code",
   "execution_count": 1,
   "metadata": {},
   "outputs": [],
   "source": [
    "import pandas as pd\n",
    "pd.set_option('display.max_columns', None)"
   ]
  },
  {
   "cell_type": "code",
   "execution_count": 6,
   "metadata": {},
   "outputs": [],
   "source": [
    "df = pd.read_csv('listings.csv.gz', compression='gzip')"
   ]
  },
  {
   "cell_type": "code",
   "execution_count": 7,
   "metadata": {},
   "outputs": [
    {
     "data": {
      "text/html": [
       "<div>\n",
       "<style scoped>\n",
       "    .dataframe tbody tr th:only-of-type {\n",
       "        vertical-align: middle;\n",
       "    }\n",
       "\n",
       "    .dataframe tbody tr th {\n",
       "        vertical-align: top;\n",
       "    }\n",
       "\n",
       "    .dataframe thead th {\n",
       "        text-align: right;\n",
       "    }\n",
       "</style>\n",
       "<table border=\"1\" class=\"dataframe\">\n",
       "  <thead>\n",
       "    <tr style=\"text-align: right;\">\n",
       "      <th></th>\n",
       "      <th>id</th>\n",
       "      <th>listing_url</th>\n",
       "      <th>name</th>\n",
       "      <th>room_type</th>\n",
       "      <th>minimum_nights</th>\n",
       "      <th>host_id</th>\n",
       "      <th>price</th>\n",
       "      <th>created_at</th>\n",
       "      <th>updated_at</th>\n",
       "    </tr>\n",
       "  </thead>\n",
       "  <tbody>\n",
       "    <tr>\n",
       "      <th>0</th>\n",
       "      <td>25436</td>\n",
       "      <td>https://www.airbnb.com/rooms/25436</td>\n",
       "      <td>Rental unit in Be??ikta??/ bebek ?? 2 bedrooms...</td>\n",
       "      <td>Entire home/apt</td>\n",
       "      <td>3</td>\n",
       "      <td>105823</td>\n",
       "      <td>$2,894.00</td>\n",
       "      <td>2009-06-05 21:34:00</td>\n",
       "      <td>2009-06-05 21:34:00</td>\n",
       "    </tr>\n",
       "    <tr>\n",
       "      <th>1</th>\n",
       "      <td>27271</td>\n",
       "      <td>https://www.airbnb.com/rooms/27271</td>\n",
       "      <td>Rental unit in Istanbul Province ?? ???5.0 ?? ...</td>\n",
       "      <td>Entire home/apt</td>\n",
       "      <td>10</td>\n",
       "      <td>117026</td>\n",
       "      <td>$1,447.00</td>\n",
       "      <td>2009-08-12 12:30:00</td>\n",
       "      <td>2009-08-12 12:30:00</td>\n",
       "    </tr>\n",
       "    <tr>\n",
       "      <th>2</th>\n",
       "      <td>423833</td>\n",
       "      <td>https://www.airbnb.com/rooms/423833</td>\n",
       "      <td>Rental unit in Istanbul ?? 1 bedroom ?? 4 beds...</td>\n",
       "      <td>Private room</td>\n",
       "      <td>2</td>\n",
       "      <td>2081426</td>\n",
       "      <td>$1,157.00</td>\n",
       "      <td>2015-07-30 05:08:00</td>\n",
       "      <td>2015-07-30 05:08:00</td>\n",
       "    </tr>\n",
       "    <tr>\n",
       "      <th>3</th>\n",
       "      <td>28277</td>\n",
       "      <td>https://www.airbnb.com/rooms/28277</td>\n",
       "      <td>Serviced apartment in Istanbul ?? ???5.0 ?? 1 ...</td>\n",
       "      <td>Entire home/apt</td>\n",
       "      <td>10</td>\n",
       "      <td>121607</td>\n",
       "      <td>$2,575.00</td>\n",
       "      <td>2010-06-15 19:56:00</td>\n",
       "      <td>2010-06-15 19:56:00</td>\n",
       "    </tr>\n",
       "    <tr>\n",
       "      <th>4</th>\n",
       "      <td>429200</td>\n",
       "      <td>https://www.airbnb.com/rooms/429200</td>\n",
       "      <td>Loft in Istanbul Galata Beyoglu Tophane  ?? 2 ...</td>\n",
       "      <td>Entire home/apt</td>\n",
       "      <td>5</td>\n",
       "      <td>182639</td>\n",
       "      <td>$2,286.00</td>\n",
       "      <td>2010-05-30 12:11:00</td>\n",
       "      <td>2010-05-30 12:11:00</td>\n",
       "    </tr>\n",
       "  </tbody>\n",
       "</table>\n",
       "</div>"
      ],
      "text/plain": [
       "       id                          listing_url  \\\n",
       "0   25436   https://www.airbnb.com/rooms/25436   \n",
       "1   27271   https://www.airbnb.com/rooms/27271   \n",
       "2  423833  https://www.airbnb.com/rooms/423833   \n",
       "3   28277   https://www.airbnb.com/rooms/28277   \n",
       "4  429200  https://www.airbnb.com/rooms/429200   \n",
       "\n",
       "                                                name        room_type  \\\n",
       "0  Rental unit in Be??ikta??/ bebek ?? 2 bedrooms...  Entire home/apt   \n",
       "1  Rental unit in Istanbul Province ?? ???5.0 ?? ...  Entire home/apt   \n",
       "2  Rental unit in Istanbul ?? 1 bedroom ?? 4 beds...     Private room   \n",
       "3  Serviced apartment in Istanbul ?? ???5.0 ?? 1 ...  Entire home/apt   \n",
       "4  Loft in Istanbul Galata Beyoglu Tophane  ?? 2 ...  Entire home/apt   \n",
       "\n",
       "   minimum_nights  host_id       price           created_at  \\\n",
       "0               3   105823  $2,894.00   2009-06-05 21:34:00   \n",
       "1              10   117026  $1,447.00   2009-08-12 12:30:00   \n",
       "2               2  2081426  $1,157.00   2015-07-30 05:08:00   \n",
       "3              10   121607  $2,575.00   2010-06-15 19:56:00   \n",
       "4               5   182639  $2,286.00   2010-05-30 12:11:00   \n",
       "\n",
       "            updated_at  \n",
       "0  2009-06-05 21:34:00  \n",
       "1  2009-08-12 12:30:00  \n",
       "2  2015-07-30 05:08:00  \n",
       "3  2010-06-15 19:56:00  \n",
       "4  2010-05-30 12:11:00  "
      ]
     },
     "execution_count": 7,
     "metadata": {},
     "output_type": "execute_result"
    }
   ],
   "source": [
    "raw_host = pd.read_csv('../processed_data/raw_listing.csv', encoding='ISO-8859-1')\n",
    "raw_host['created_at'] = pd.to_datetime(raw_host['created_at']).dt.strftime('%Y-%m-%d %H:%M:%S')\n",
    "raw_host['updated_at'] = pd.to_datetime(raw_host['updated_at']).dt.strftime('%Y-%m-%d %H:%M:%S')\n",
    "raw_host.head()"
   ]
  },
  {
   "cell_type": "code",
   "execution_count": 20,
   "metadata": {},
   "outputs": [],
   "source": [
    "raw_host.to_csv('../processed_data/raw_listing.csv', index=False)"
   ]
  },
  {
   "cell_type": "code",
   "execution_count": null,
   "metadata": {},
   "outputs": [],
   "source": []
  }
 ],
 "metadata": {
  "kernelspec": {
   "display_name": "base",
   "language": "python",
   "name": "python3"
  },
  "language_info": {
   "codemirror_mode": {
    "name": "ipython",
    "version": 3
   },
   "file_extension": ".py",
   "mimetype": "text/x-python",
   "name": "python",
   "nbconvert_exporter": "python",
   "pygments_lexer": "ipython3",
   "version": "3.11.3"
  }
 },
 "nbformat": 4,
 "nbformat_minor": 2
}
